{
 "cells": [
  {
   "cell_type": "code",
   "execution_count": 3,
   "id": "7501b796",
   "metadata": {},
   "outputs": [],
   "source": [
    "import numpy as np\n",
    "import pandas as pd\n",
    "from sklearn.linear_model import LinearRegression\n",
    "from sklearn.preprocessing import PolynomialFeatures"
   ]
  },
  {
   "cell_type": "code",
   "execution_count": 10,
   "id": "ada79329",
   "metadata": {},
   "outputs": [],
   "source": [
    "train_data = pd.read_csv('data.csv')\n",
    "X = train_data['Var_X'].values.reshape(-1, 1)\n",
    "y = train_data['Var_Y'].values"
   ]
  },
  {
   "cell_type": "code",
   "execution_count": 14,
   "id": "3a672a8d",
   "metadata": {},
   "outputs": [],
   "source": [
    "poly_feat = PolynomialFeatures(degree = 4)\n",
    "X_poly = poly_feat.fit_transform(X)"
   ]
  },
  {
   "cell_type": "code",
   "execution_count": 15,
   "id": "4ce01686",
   "metadata": {},
   "outputs": [
    {
     "name": "stdout",
     "output_type": "stream",
     "text": [
      "Coefficients: [ 3.37563501 -6.28126025 -2.3787942   0.55307182  0.22699807]\n",
      "Intercept: 0.0\n"
     ]
    }
   ],
   "source": [
    "poly_model = LinearRegression(fit_intercept = False).fit(X_poly, y)\n",
    "\n",
    "print(f\"Coefficients: {poly_model.coef_}\")\n",
    "print(f\"Intercept: {poly_model.intercept_}\")"
   ]
  },
  {
   "cell_type": "code",
   "execution_count": null,
   "id": "9631753f",
   "metadata": {},
   "outputs": [],
   "source": []
  }
 ],
 "metadata": {
  "kernelspec": {
   "display_name": "Python 3 (ipykernel)",
   "language": "python",
   "name": "python3"
  },
  "language_info": {
   "codemirror_mode": {
    "name": "ipython",
    "version": 3
   },
   "file_extension": ".py",
   "mimetype": "text/x-python",
   "name": "python",
   "nbconvert_exporter": "python",
   "pygments_lexer": "ipython3",
   "version": "3.11.5"
  }
 },
 "nbformat": 4,
 "nbformat_minor": 5
}
